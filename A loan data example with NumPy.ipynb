{
 "cells": [
  {
   "cell_type": "code",
   "execution_count": 1,
   "id": "9b02ccc2",
   "metadata": {},
   "outputs": [],
   "source": [
    "import numpy as np"
   ]
  },
  {
   "cell_type": "code",
   "execution_count": 2,
   "id": "39744a53",
   "metadata": {},
   "outputs": [],
   "source": [
    "np.set_printoptions(suppress = True, linewidth = 100, precision = 2)"
   ]
  },
  {
   "cell_type": "code",
   "execution_count": 3,
   "id": "89b6ae63",
   "metadata": {},
   "outputs": [],
   "source": [
    "# importing the data\n",
    "raw_data_np = np.genfromtxt('loan-data.csv', \n",
    "                            delimiter = ';', \n",
    "                            skip_header = 1, \n",
    "                            autostrip = True)\n",
    "raw_data_np"
   ]
  },
  {
   "cell_type": "code",
   "execution_count": 4,
   "id": "e42034d5",
   "metadata": {},
   "outputs": [],
   "source": [
    "# checking for incomplete data \n",
    "np.isnan(raw_data_np).sum()"
   ]
  },
  {
   "cell_type": "code",
   "execution_count": 5,
   "id": "416258f6",
   "metadata": {},
   "outputs": [],
   "source": [
    "# a filler for all the missing entries of the dataset\n",
    "temporary_fill = np.nanmax(raw_data_np) + 1\n",
    "\n",
    "# hold the means for every column\n",
    "temporary_mean = np.nanmean(raw_data_np, axis = 0)"
   ]
  },
  {
   "cell_type": "code",
   "execution_count": 6,
   "id": "2e024de8",
   "metadata": {},
   "outputs": [],
   "source": [
    "# to determine how many columns consist entirely of text values\n",
    "temporary_mean"
   ]
  },
  {
   "cell_type": "code",
   "execution_count": 7,
   "id": "3417c711",
   "metadata": {},
   "outputs": [],
   "source": [
    "# to extract the minimum and maximum values for each numeric column\n",
    "temporary_stats = np.array([np.nanmin(raw_data_np, axis = 0),\n",
    "                           temporary_mean,\n",
    "                           np.nanmax(raw_data_np, axis = 0)])"
   ]
  },
  {
   "cell_type": "code",
   "execution_count": 8,
   "id": "086daa1b",
   "metadata": {},
   "outputs": [],
   "source": [
    "temporary_stats"
   ]
  },
  {
   "cell_type": "code",
   "execution_count": 9,
   "id": "3797789a",
   "metadata": {},
   "outputs": [],
   "source": [
    "# column contains only text -> mean = nan -> np.isnan() = True -> True != 0 -> np.argwhere() returns the index\n",
    "columns_strings = np.argwhere(np.isnan(temporary_mean)).squeeze()\n",
    "columns_strings"
   ]
  },
  {
   "cell_type": "code",
   "execution_count": 10,
   "id": "18da127e",
   "metadata": {},
   "outputs": [],
   "source": [
    "# column contains numeric values\n",
    "columns_numeric = np.argwhere(np.isnan(temporary_mean) == False).squeeze()\n",
    "columns_numeric"
   ]
  },
  {
   "cell_type": "code",
   "execution_count": 11,
   "id": "5c26c4f5",
   "metadata": {},
   "outputs": [],
   "source": [
    "# re-importing the dataset as two separate arrays\n",
    "# the string dataset\n",
    "loan_data_strings = np.genfromtxt('loan-data.csv', \n",
    "                            delimiter = ';', \n",
    "                            skip_header = 1, \n",
    "                            autostrip = True, \n",
    "                            usecols = columns_strings, \n",
    "                            dtype = str)\n",
    "loan_data_strings"
   ]
  },
  {
   "cell_type": "code",
   "execution_count": 12,
   "id": "a3a7f68d",
   "metadata": {},
   "outputs": [],
   "source": [
    "# the numeric dataset\n",
    "loan_data_numeric = np.genfromtxt('loan-data.csv', \n",
    "                            delimiter = ';', \n",
    "                            skip_header = 1, \n",
    "                            autostrip = True, \n",
    "                            usecols = columns_numeric, \n",
    "                            filling_values = temporary_fill)\n",
    "loan_data_numeric"
   ]
  },
  {
   "cell_type": "code",
   "execution_count": 13,
   "id": "0faaa94a",
   "metadata": {},
   "outputs": [],
   "source": [
    "# the names of the columns \n",
    "header_full = np.genfromtxt('loan-data.csv', \n",
    "                            delimiter = ';', \n",
    "                            autostrip = True, \n",
    "                            skip_footer = raw_data_np.shape[0], \n",
    "                            dtype = str)\n",
    "header_full"
   ]
  },
  {
   "cell_type": "code",
   "execution_count": 14,
   "id": "a3018a9a",
   "metadata": {},
   "outputs": [],
   "source": [
    "# to split the headers into two variables, each one holding the name of the column which contain string data or numeric data\n",
    "header_strings, header_numeric = header_full[columns_strings], header_full[columns_numeric]"
   ]
  },
  {
   "cell_type": "code",
   "execution_count": 15,
   "id": "2605f408",
   "metadata": {},
   "outputs": [],
   "source": [
    "header_strings"
   ]
  },
  {
   "cell_type": "code",
   "execution_count": 16,
   "id": "e6ffd16b",
   "metadata": {},
   "outputs": [],
   "source": [
    "header_numeric"
   ]
  },
  {
   "cell_type": "code",
   "execution_count": 17,
   "id": "e13dd66d",
   "metadata": {},
   "outputs": [],
   "source": [
    "# creating checkpoint\n",
    "def checkpoint(file_name, checkpoint_header, checkpoint_data):\n",
    "    np.savez(file_name, header = checkpoint_header, data = checkpoint_data)\n",
    "    checkpoint_variable = np.load(file_name + '.npz')\n",
    "    return(checkpoint_variable)"
   ]
  },
  {
   "cell_type": "code",
   "execution_count": 18,
   "id": "ac70b982",
   "metadata": {},
   "outputs": [],
   "source": [
    "# testing checkpoint\n",
    "checkpoint_test = checkpoint('checkpoint-test', header_strings, loan_data_strings)\n",
    "checkpoint_test['data']"
   ]
  },
  {
   "cell_type": "code",
   "execution_count": 19,
   "id": "3a3d04af",
   "metadata": {},
   "outputs": [],
   "source": [
    "# manipulating string columns\n",
    "header_strings"
   ]
  },
  {
   "cell_type": "code",
   "execution_count": 20,
   "id": "27150630",
   "metadata": {},
   "outputs": [],
   "source": [
    "header_strings[0] = 'issue_date'"
   ]
  },
  {
   "cell_type": "code",
   "execution_count": 21,
   "id": "eef546e1",
   "metadata": {},
   "outputs": [],
   "source": [
    "np.unique(loan_data_strings[:,0])"
   ]
  },
  {
   "cell_type": "code",
   "execution_count": 22,
   "id": "f48286e1",
   "metadata": {},
   "outputs": [],
   "source": [
    "loan_data_strings[:,0] = np.chararray.strip(loan_data_strings[:,0], '-15')"
   ]
  },
  {
   "cell_type": "code",
   "execution_count": 23,
   "id": "9a545c9f",
   "metadata": {},
   "outputs": [],
   "source": [
    "np.unique(loan_data_strings[:,0])"
   ]
  },
  {
   "cell_type": "code",
   "execution_count": 24,
   "id": "4854d8c0",
   "metadata": {},
   "outputs": [],
   "source": [
    "months = np.array(['', 'Jan', 'Feb', 'Mar', 'Apr', 'May', 'Jun', 'Jul', 'Aug', 'Sep', 'Oct', 'Nov', 'Dec'])"
   ]
  },
  {
   "cell_type": "code",
   "execution_count": 25,
   "id": "baeee5bb",
   "metadata": {},
   "outputs": [],
   "source": [
    "for i in range(13):\n",
    "    loan_data_strings[:,0] = np.where(loan_data_strings[:,0] == months[i],\n",
    "                                     i,\n",
    "                                     loan_data_strings[:,0])"
   ]
  },
  {
   "cell_type": "code",
   "execution_count": 26,
   "id": "f53d9fea",
   "metadata": {},
   "outputs": [],
   "source": [
    "np.unique(loan_data_strings[:,0])"
   ]
  },
  {
   "cell_type": "code",
   "execution_count": 27,
   "id": "532ccc8f",
   "metadata": {},
   "outputs": [],
   "source": [
    "header_strings"
   ]
  },
  {
   "cell_type": "code",
   "execution_count": 28,
   "id": "bb84f59d",
   "metadata": {},
   "outputs": [],
   "source": [
    "np.unique(loan_data_strings[:,1])"
   ]
  },
  {
   "cell_type": "code",
   "execution_count": 29,
   "id": "0c23926b",
   "metadata": {},
   "outputs": [],
   "source": [
    "np.unique(loan_data_strings[:,1]).size"
   ]
  },
  {
   "cell_type": "code",
   "execution_count": 30,
   "id": "89f1315f",
   "metadata": {},
   "outputs": [],
   "source": [
    "status_bad = np.array(['', 'Charged Off', 'Default', 'Late (31-120 days)'])"
   ]
  },
  {
   "cell_type": "code",
   "execution_count": 31,
   "id": "d659a774",
   "metadata": {},
   "outputs": [],
   "source": [
    "loan_data_strings[:,1] = np.where(np.isin(loan_data_strings[:,1], status_bad), 0, 1)"
   ]
  },
  {
   "cell_type": "code",
   "execution_count": 32,
   "id": "a6238558",
   "metadata": {},
   "outputs": [],
   "source": [
    "np.unique(loan_data_strings[:,1])"
   ]
  },
  {
   "cell_type": "code",
   "execution_count": 33,
   "id": "1ab57f57",
   "metadata": {},
   "outputs": [],
   "source": [
    "loan_data_strings[:,2]"
   ]
  },
  {
   "cell_type": "code",
   "execution_count": 34,
   "id": "e80a53dc",
   "metadata": {},
   "outputs": [],
   "source": [
    "np.unique(loan_data_strings[:,2])"
   ]
  },
  {
   "cell_type": "code",
   "execution_count": 35,
   "id": "691cf650",
   "metadata": {},
   "outputs": [],
   "source": [
    "loan_data_strings[:,2] = np.chararray.strip(loan_data_strings[:,2], ' months')\n",
    "loan_data_strings[:,2]"
   ]
  },
  {
   "cell_type": "code",
   "execution_count": 36,
   "id": "ddbe9ee6",
   "metadata": {},
   "outputs": [],
   "source": [
    "header_strings[2] = 'term_months'"
   ]
  },
  {
   "cell_type": "code",
   "execution_count": 37,
   "id": "f2d77677",
   "metadata": {},
   "outputs": [],
   "source": [
    "loan_data_strings[:,2] = np.where(loan_data_strings[:,2] == '',\n",
    "                                     '60',\n",
    "                                     loan_data_strings[:,2])"
   ]
  },
  {
   "cell_type": "code",
   "execution_count": 38,
   "id": "5b60f1b4",
   "metadata": {},
   "outputs": [],
   "source": [
    "np.unique(loan_data_strings[:,2])"
   ]
  },
  {
   "cell_type": "code",
   "execution_count": 39,
   "id": "f8385a5e",
   "metadata": {},
   "outputs": [],
   "source": [
    "np.unique(loan_data_strings[:,3])"
   ]
  },
  {
   "cell_type": "code",
   "execution_count": 40,
   "id": "1457a157",
   "metadata": {},
   "outputs": [],
   "source": [
    "np.unique(loan_data_strings[:,4])"
   ]
  },
  {
   "cell_type": "code",
   "execution_count": 41,
   "id": "7f823b31",
   "metadata": {},
   "outputs": [],
   "source": [
    "# filling sub grade\n",
    "for i in np.unique(loan_data_strings[:,3])[1:]:\n",
    "    loan_data_strings[:,4] = np.where((loan_data_strings[:,4] == '') & (loan_data_strings[:,3] == i),\n",
    "                                     i + '5',\n",
    "                                     loan_data_strings[:,4])"
   ]
  },
  {
   "cell_type": "code",
   "execution_count": 42,
   "id": "b8696a37",
   "metadata": {},
   "outputs": [],
   "source": [
    "np.unique(loan_data_strings[:,4], return_counts = True)"
   ]
  },
  {
   "cell_type": "code",
   "execution_count": 43,
   "id": "50463dcc",
   "metadata": {},
   "outputs": [],
   "source": [
    "loan_data_strings[:,4] = np.where(loan_data_strings[:,4] == '',\n",
    "                                     'H1',\n",
    "                                     loan_data_strings[:,4])"
   ]
  },
  {
   "cell_type": "code",
   "execution_count": 44,
   "id": "5464ddcf",
   "metadata": {},
   "outputs": [],
   "source": [
    "np.unique(loan_data_strings[:,4])"
   ]
  },
  {
   "cell_type": "code",
   "execution_count": 45,
   "id": "7c0e45bd",
   "metadata": {},
   "outputs": [],
   "source": [
    "# removing grade\n",
    "loan_data_strings = np.delete(loan_data_strings, 3, axis = 1)"
   ]
  },
  {
   "cell_type": "code",
   "execution_count": 46,
   "id": "d0510a22",
   "metadata": {},
   "outputs": [],
   "source": [
    "loan_data_strings[:,3]"
   ]
  },
  {
   "cell_type": "code",
   "execution_count": 47,
   "id": "481c226e",
   "metadata": {},
   "outputs": [],
   "source": [
    "header_strings = np.delete(header_strings, 3)"
   ]
  },
  {
   "cell_type": "code",
   "execution_count": 48,
   "id": "8c645a3a",
   "metadata": {},
   "outputs": [],
   "source": [
    "header_strings"
   ]
  },
  {
   "cell_type": "code",
   "execution_count": 49,
   "id": "4f2bbc3b",
   "metadata": {},
   "outputs": [],
   "source": [
    "# converting sub grade\n",
    "keys = list(np.unique(loan_data_strings[:,3]))\n",
    "# if we don't add +1 at the end, we would only have 35 values for 36 sub_grades\n",
    "values = list(range(1, np.unique(loan_data_strings[:,3]).shape[0] + 1))\n",
    "dict_sub_grade = dict(zip(keys,values))"
   ]
  },
  {
   "cell_type": "code",
   "execution_count": 50,
   "id": "766c6f16",
   "metadata": {},
   "outputs": [],
   "source": [
    "dict_sub_grade"
   ]
  },
  {
   "cell_type": "code",
   "execution_count": 51,
   "id": "9b184f4a",
   "metadata": {},
   "outputs": [],
   "source": [
    "for i in np.unique(loan_data_strings[:,3]):\n",
    "    loan_data_strings[:,3] = np.where(loan_data_strings[:,3] == i,\n",
    "                                     dict_sub_grade[i],\n",
    "                                     loan_data_strings[:,3])"
   ]
  },
  {
   "cell_type": "code",
   "execution_count": 52,
   "id": "bb9ba4da",
   "metadata": {},
   "outputs": [],
   "source": [
    "np.unique(loan_data_strings[:,3])"
   ]
  },
  {
   "cell_type": "code",
   "execution_count": 53,
   "id": "639c0dd4",
   "metadata": {},
   "outputs": [],
   "source": [
    "np.unique(loan_data_strings[:,4])"
   ]
  },
  {
   "cell_type": "code",
   "execution_count": 54,
   "id": "77f5d3b4",
   "metadata": {},
   "outputs": [],
   "source": [
    "loan_data_strings[:,4] = np.where((loan_data_strings[:,4] == '') | (loan_data_strings[:,4] == 'Not Verified'), 0, 1)"
   ]
  },
  {
   "cell_type": "code",
   "execution_count": 55,
   "id": "3fc1b3cb",
   "metadata": {},
   "outputs": [],
   "source": [
    "np.unique(loan_data_strings[:,4])"
   ]
  },
  {
   "cell_type": "code",
   "execution_count": 56,
   "id": "363cffb9",
   "metadata": {},
   "outputs": [],
   "source": [
    "np.unique(loan_data_strings[:,5])"
   ]
  },
  {
   "cell_type": "code",
   "execution_count": 57,
   "id": "2e2a7ebf",
   "metadata": {},
   "outputs": [],
   "source": [
    "np.chararray.strip(loan_data_strings[:,5], 'https://www.lendingclub.com/browse/loanDetail.action?loan_id=')"
   ]
  },
  {
   "cell_type": "code",
   "execution_count": 58,
   "id": "6beda10d",
   "metadata": {},
   "outputs": [],
   "source": [
    "loan_data_strings[:,5] = np.chararray.strip(loan_data_strings[:,5], 'https://www.lendingclub.com/browse/loanDetail.action?loan_id=')"
   ]
  },
  {
   "cell_type": "code",
   "execution_count": 59,
   "id": "50676cd5",
   "metadata": {},
   "outputs": [],
   "source": [
    "header_full"
   ]
  },
  {
   "cell_type": "code",
   "execution_count": 60,
   "id": "705c5ae4",
   "metadata": {},
   "outputs": [],
   "source": [
    "loan_data_numeric[:,0].astype(dtype = np.int32)"
   ]
  },
  {
   "cell_type": "code",
   "execution_count": 61,
   "id": "8434bac3",
   "metadata": {},
   "outputs": [],
   "source": [
    "loan_data_strings[:,5].astype(dtype = np.int32)"
   ]
  },
  {
   "cell_type": "code",
   "execution_count": 62,
   "id": "bd6a07ef",
   "metadata": {},
   "outputs": [],
   "source": [
    "np.array_equal(loan_data_numeric[:,0].astype(dtype = np.int32), loan_data_strings[:,5].astype(dtype = np.int32))"
   ]
  },
  {
   "cell_type": "code",
   "execution_count": 63,
   "id": "6ea29e32",
   "metadata": {},
   "outputs": [],
   "source": [
    "loan_data_strings = np.delete(loan_data_strings, 5, axis = 1)\n",
    "header_strings = np.delete(header_strings, 5)"
   ]
  },
  {
   "cell_type": "code",
   "execution_count": 64,
   "id": "b9a925a5",
   "metadata": {},
   "outputs": [],
   "source": [
    "header_strings"
   ]
  },
  {
   "cell_type": "code",
   "execution_count": 65,
   "id": "0a2e60d1",
   "metadata": {},
   "outputs": [],
   "source": [
    "header_strings[5] = 'state_address'"
   ]
  },
  {
   "cell_type": "code",
   "execution_count": 66,
   "id": "6d3b93d5",
   "metadata": {},
   "outputs": [],
   "source": [
    "np.unique(loan_data_strings[:,5])"
   ]
  },
  {
   "cell_type": "code",
   "execution_count": 67,
   "id": "eeec21a6",
   "metadata": {},
   "outputs": [],
   "source": [
    "np.unique(loan_data_strings[:,5]).size"
   ]
  },
  {
   "cell_type": "code",
   "execution_count": 68,
   "id": "6cac9d85",
   "metadata": {},
   "outputs": [],
   "source": [
    "states_names, states_count = np.unique(loan_data_strings[:,5], return_counts = True)\n",
    "states_count_sorted = np.argsort(-states_count)\n",
    "states_names[states_count_sorted], states_count[states_count_sorted]"
   ]
  },
  {
   "cell_type": "code",
   "execution_count": 69,
   "id": "c7930f37",
   "metadata": {},
   "outputs": [],
   "source": [
    "loan_data_strings[:,5] = np.where(loan_data_strings[:,5] == '',\n",
    "                                     0,\n",
    "                                     loan_data_strings[:,5])"
   ]
  },
  {
   "cell_type": "code",
   "execution_count": 70,
   "id": "d28ef74c",
   "metadata": {},
   "outputs": [],
   "source": [
    "states_west = np.array(['WA', 'OR','CA','NV','ID','MT', 'WY','UT','CO', 'AZ','NM','HI','AK'])\n",
    "states_south = np.array(['TX','OK','AR','LA','MS','AL','TN','KY','FL','GA','SC','NC','VA','WV','MD','DE','DC'])\n",
    "states_midwest = np.array(['ND','SD','NE','KS','MN','IA','MO','WI','IL','IN','MI','OH'])\n",
    "states_east = np.array(['PA','NY','NJ','CT','MA','VT','NH','ME','RI'])"
   ]
  },
  {
   "cell_type": "code",
   "execution_count": 71,
   "id": "91500add",
   "metadata": {},
   "outputs": [],
   "source": [
    "loan_data_strings[:,5] = np.where(np.isin(loan_data_strings[:,5], states_west), 1, loan_data_strings[:,5])\n",
    "loan_data_strings[:,5] = np.where(np.isin(loan_data_strings[:,5], states_south), 2, loan_data_strings[:,5])\n",
    "loan_data_strings[:,5] = np.where(np.isin(loan_data_strings[:,5], states_midwest), 3, loan_data_strings[:,5])\n",
    "loan_data_strings[:,5] = np.where(np.isin(loan_data_strings[:,5], states_east), 4, loan_data_strings[:,5])"
   ]
  },
  {
   "cell_type": "code",
   "execution_count": 72,
   "id": "81e265ec",
   "metadata": {},
   "outputs": [],
   "source": [
    "np.unique(loan_data_strings[:,5])"
   ]
  },
  {
   "cell_type": "code",
   "execution_count": 73,
   "id": "4cc32488",
   "metadata": {},
   "outputs": [],
   "source": [
    "# I've converted whatever data I had into numeric values stored as text\n",
    "# converting to numbers now\n",
    "loan_data_strings"
   ]
  },
  {
   "cell_type": "code",
   "execution_count": 74,
   "id": "5d7bde9f",
   "metadata": {},
   "outputs": [],
   "source": [
    "loan_data_strings = loan_data_strings.astype(int)"
   ]
  },
  {
   "cell_type": "code",
   "execution_count": 75,
   "id": "5dd2fe31",
   "metadata": {},
   "outputs": [],
   "source": [
    "loan_data_strings"
   ]
  },
  {
   "cell_type": "code",
   "execution_count": 76,
   "id": "139e12b7",
   "metadata": {},
   "outputs": [],
   "source": [
    "# another checkpoint for all the changes that I've made to the former string dataset\n",
    "checkpoint_strings = checkpoint('Checkpoint-Strings', header_strings, loan_data_strings)\n",
    "checkpoint_strings['header']"
   ]
  },
  {
   "cell_type": "code",
   "execution_count": 77,
   "id": "f48f5e24",
   "metadata": {},
   "outputs": [],
   "source": [
    "checkpoint_strings['data']"
   ]
  },
  {
   "cell_type": "code",
   "execution_count": 78,
   "id": "80b590cb",
   "metadata": {},
   "outputs": [],
   "source": [
    "# manipulating numeric columns \n",
    "loan_data_numeric"
   ]
  },
  {
   "cell_type": "code",
   "execution_count": 79,
   "id": "1e698545",
   "metadata": {},
   "outputs": [],
   "source": [
    "np.isnan(loan_data_numeric).sum()"
   ]
  },
  {
   "cell_type": "code",
   "execution_count": 80,
   "id": "2d477e46",
   "metadata": {},
   "outputs": [],
   "source": [
    "# substitute \"filler\" values\n",
    "temporary_fill"
   ]
  },
  {
   "cell_type": "code",
   "execution_count": 81,
   "id": "31662447",
   "metadata": {},
   "outputs": [],
   "source": [
    "np.isin(loan_data_numeric[:,0], temporary_fill)"
   ]
  },
  {
   "cell_type": "code",
   "execution_count": 82,
   "id": "99a1d309",
   "metadata": {},
   "outputs": [],
   "source": [
    "np.isin(loan_data_numeric[:,0], temporary_fill).sum()"
   ]
  },
  {
   "cell_type": "code",
   "execution_count": 83,
   "id": "db4a8904",
   "metadata": {},
   "outputs": [],
   "source": [
    "# 1st row - temporary min\n",
    "# 2nd row - temporary mean\n",
    "# 3rd row - temporary max\n",
    "\n",
    "temporary_stats[:, columns_numeric]"
   ]
  },
  {
   "cell_type": "code",
   "execution_count": 84,
   "id": "92b28f8b",
   "metadata": {},
   "outputs": [],
   "source": [
    "header_numeric"
   ]
  },
  {
   "cell_type": "code",
   "execution_count": 85,
   "id": "8da9903a",
   "metadata": {},
   "outputs": [],
   "source": [
    "loan_data_numeric[:,2] "
   ]
  },
  {
   "cell_type": "code",
   "execution_count": 86,
   "id": "9d7d4ebe",
   "metadata": {},
   "outputs": [],
   "source": [
    "# funded_amnt is the only column for each I need to set the filler values equal to the minimum\n",
    "loan_data_numeric[:,2] = np.where(loan_data_numeric[:,2] == temporary_fill,\n",
    "                                     temporary_stats[0, columns_numeric[2]],\n",
    "                                     loan_data_numeric[:,2])\n",
    "loan_data_numeric[:,2] "
   ]
  },
  {
   "cell_type": "code",
   "execution_count": 87,
   "id": "c12b934d",
   "metadata": {},
   "outputs": [],
   "source": [
    "temporary_stats[0, columns_numeric[3]]"
   ]
  },
  {
   "cell_type": "code",
   "execution_count": 88,
   "id": "964b4e74",
   "metadata": {},
   "outputs": [],
   "source": [
    "header_numeric"
   ]
  },
  {
   "cell_type": "code",
   "execution_count": 89,
   "id": "ad7df2db",
   "metadata": {},
   "outputs": [],
   "source": [
    "# filling out the remaining numeric columns\n",
    "for i in [1,3,4,5]:\n",
    "    loan_data_numeric[:,i] = np.where(loan_data_numeric[:,i] == temporary_fill,\n",
    "                                      temporary_stats[2, columns_numeric[i]],\n",
    "                                      loan_data_numeric[:,i])\n",
    "    \n",
    "loan_data_numeric"
   ]
  },
  {
   "cell_type": "code",
   "execution_count": 90,
   "id": "fbda733a",
   "metadata": {},
   "outputs": [],
   "source": [
    "# currency change\n",
    "EUR_USD = np.genfromtxt(\"EUR-USD.csv\", delimiter = ',', autostrip = True, skip_header = 1, usecols = 3)\n",
    "EUR_USD"
   ]
  },
  {
   "cell_type": "code",
   "execution_count": 91,
   "id": "c97faf79",
   "metadata": {},
   "outputs": [],
   "source": [
    "# creating a new column to store the exchange rates for each account\n",
    "# I'll start by setting exchange rate equal to the 1st column of the string dataset because it contains all the issue dates\n",
    "\n",
    "loan_data_strings[:,0]"
   ]
  },
  {
   "cell_type": "code",
   "execution_count": 92,
   "id": "0afa9198",
   "metadata": {},
   "outputs": [],
   "source": [
    "exchange_rate = loan_data_strings[:,0]\n",
    "\n",
    "# even though January is represented by 1, the index for EUR_USD must be 0\n",
    "for i in range(1,13):\n",
    "    exchange_rate = np.where(exchange_rate == i,\n",
    "                             EUR_USD[i-1],\n",
    "                             exchange_rate)    \n",
    "\n",
    "exchange_rate = np.where(exchange_rate == 0,\n",
    "                         np.mean(EUR_USD),\n",
    "                         exchange_rate)\n",
    "\n",
    "exchange_rate"
   ]
  },
  {
   "cell_type": "code",
   "execution_count": 93,
   "id": "9139dd18",
   "metadata": {},
   "outputs": [],
   "source": [
    "exchange_rate.shape"
   ]
  },
  {
   "cell_type": "code",
   "execution_count": 94,
   "id": "88f386d5",
   "metadata": {},
   "outputs": [],
   "source": [
    "loan_data_numeric.shape"
   ]
  },
  {
   "cell_type": "code",
   "execution_count": 95,
   "id": "f2b1ea55",
   "metadata": {},
   "outputs": [],
   "source": [
    "exchange_rate = np.reshape(exchange_rate, (10000,1))"
   ]
  },
  {
   "cell_type": "code",
   "execution_count": 96,
   "id": "b8a770d8",
   "metadata": {},
   "outputs": [],
   "source": [
    "loan_data_numeric = np.hstack((loan_data_numeric, exchange_rate))"
   ]
  },
  {
   "cell_type": "code",
   "execution_count": 97,
   "id": "8866a41c",
   "metadata": {},
   "outputs": [],
   "source": [
    "header_numeric = np.concatenate((header_numeric, np.array(['exchange_rate'])))"
   ]
  },
  {
   "cell_type": "code",
   "execution_count": 98,
   "id": "c11e091e",
   "metadata": {},
   "outputs": [],
   "source": [
    "header_numeric"
   ]
  },
  {
   "cell_type": "code",
   "execution_count": 99,
   "id": "d889c257",
   "metadata": {},
   "outputs": [],
   "source": [
    "columns_dollar = np.array([1,2,4,5])"
   ]
  },
  {
   "cell_type": "code",
   "execution_count": 100,
   "id": "bab35a84",
   "metadata": {},
   "outputs": [],
   "source": [
    "loan_data_numeric[:,[columns_dollar]]"
   ]
  },
  {
   "cell_type": "code",
   "execution_count": 101,
   "id": "a40e386b",
   "metadata": {},
   "outputs": [],
   "source": [
    "loan_data_numeric[:,6]"
   ]
  },
  {
   "cell_type": "code",
   "execution_count": 102,
   "id": "dd29f224",
   "metadata": {},
   "outputs": [],
   "source": [
    "# the first input will be the entire dataset because I want to attach the new columns to the existing dataset\n",
    "# then I'll reference a column depending on the iterator variable and divide it by the exchange rate that is stored in the 7th column of the numeric dataset\n",
    "for i in columns_dollar:\n",
    "    loan_data_numeric = np.hstack((loan_data_numeric, np.reshape(loan_data_numeric[:,i] / loan_data_numeric[:,6], (10000,1))))"
   ]
  },
  {
   "cell_type": "code",
   "execution_count": 103,
   "id": "e0b2f4eb",
   "metadata": {},
   "outputs": [],
   "source": [
    "loan_data_numeric.shape"
   ]
  },
  {
   "cell_type": "code",
   "execution_count": 104,
   "id": "eb2d1f75",
   "metadata": {},
   "outputs": [],
   "source": [
    "# expanding the header\n",
    "header_additional = np.array([column_name + '_EUR' for column_name in header_numeric[columns_dollar]])\n",
    "header_additional"
   ]
  },
  {
   "cell_type": "code",
   "execution_count": 105,
   "id": "5e18cd00",
   "metadata": {},
   "outputs": [],
   "source": [
    "header_numeric = np.concatenate((header_numeric, header_additional))"
   ]
  },
  {
   "cell_type": "code",
   "execution_count": 106,
   "id": "d1bf8b18",
   "metadata": {},
   "outputs": [],
   "source": [
    "header_numeric"
   ]
  },
  {
   "cell_type": "code",
   "execution_count": 107,
   "id": "90639617",
   "metadata": {},
   "outputs": [],
   "source": [
    "header_numeric[columns_dollar] = np.array([column_name + '_USD' for column_name in header_numeric[columns_dollar]])"
   ]
  },
  {
   "cell_type": "code",
   "execution_count": 108,
   "id": "ccc4f697",
   "metadata": {},
   "outputs": [],
   "source": [
    "header_numeric"
   ]
  },
  {
   "cell_type": "code",
   "execution_count": 109,
   "id": "84a8b062",
   "metadata": {},
   "outputs": [],
   "source": [
    "columns_index_order = [0,1,7,2,8,3,4,9,5,10,6]"
   ]
  },
  {
   "cell_type": "code",
   "execution_count": 110,
   "id": "e74df488",
   "metadata": {},
   "outputs": [],
   "source": [
    "header_numeric = header_numeric[columns_index_order]"
   ]
  },
  {
   "cell_type": "code",
   "execution_count": 111,
   "id": "9aff08b0",
   "metadata": {},
   "outputs": [],
   "source": [
    "header_numeric"
   ]
  },
  {
   "cell_type": "code",
   "execution_count": 112,
   "id": "da035748",
   "metadata": {},
   "outputs": [],
   "source": [
    "loan_data_numeric = loan_data_numeric[:, columns_index_order]"
   ]
  },
  {
   "cell_type": "code",
   "execution_count": 113,
   "id": "685561b8",
   "metadata": {},
   "outputs": [],
   "source": [
    "header_numeric"
   ]
  },
  {
   "cell_type": "code",
   "execution_count": 114,
   "id": "18170500",
   "metadata": {},
   "outputs": [],
   "source": [
    "# the convention usually dictates using values between 0 and 1\n",
    "loan_data_numeric[:,5] = loan_data_numeric[:,5]/100"
   ]
  },
  {
   "cell_type": "code",
   "execution_count": 115,
   "id": "ddc3c7be",
   "metadata": {},
   "outputs": [],
   "source": [
    "loan_data_numeric[:,5]"
   ]
  },
  {
   "cell_type": "code",
   "execution_count": 116,
   "id": "73674dfb",
   "metadata": {},
   "outputs": [],
   "source": [
    "# creating a checkpoint for all the numerical values\n",
    "checkpoint_numeric = checkpoint(\"Checkpoint-Numeric\", header_numeric, loan_data_numeric)"
   ]
  },
  {
   "cell_type": "code",
   "execution_count": 117,
   "id": "968bc245",
   "metadata": {},
   "outputs": [],
   "source": [
    "checkpoint_numeric['header'], checkpoint_numeric['data']"
   ]
  },
  {
   "cell_type": "code",
   "execution_count": 118,
   "id": "3ba49abc",
   "metadata": {},
   "outputs": [],
   "source": [
    "# combining the preprocessed versions of the string and numeric values:\n",
    "checkpoint_strings['data'].shape"
   ]
  },
  {
   "cell_type": "code",
   "execution_count": 119,
   "id": "f792ee8d",
   "metadata": {},
   "outputs": [],
   "source": [
    "checkpoint_numeric['data'].shape"
   ]
  },
  {
   "cell_type": "code",
   "execution_count": 120,
   "id": "75cb18f1",
   "metadata": {},
   "outputs": [],
   "source": [
    "loan_data = np.hstack((checkpoint_numeric['data'], checkpoint_strings['data']))"
   ]
  },
  {
   "cell_type": "code",
   "execution_count": 121,
   "id": "458c9fdf",
   "metadata": {},
   "outputs": [],
   "source": [
    "loan_data"
   ]
  },
  {
   "cell_type": "code",
   "execution_count": 122,
   "id": "7a1db503",
   "metadata": {},
   "outputs": [],
   "source": [
    "np.isnan(loan_data).sum()"
   ]
  },
  {
   "cell_type": "code",
   "execution_count": 123,
   "id": "a3e00c38",
   "metadata": {},
   "outputs": [],
   "source": [
    "# stitching header arrays of the checkpoint_numeric and checkpoint_strings\n",
    "header_full = np.concatenate((checkpoint_numeric['header'], checkpoint_strings['header']))"
   ]
  },
  {
   "cell_type": "code",
   "execution_count": 124,
   "id": "55165e56",
   "metadata": {},
   "outputs": [],
   "source": [
    "header_full"
   ]
  },
  {
   "cell_type": "code",
   "execution_count": 125,
   "id": "23d44046",
   "metadata": {},
   "outputs": [],
   "source": [
    "# rearranging the entire dataset according to the values in the 1st column \n",
    "loan_data = loan_data[np.argsort(loan_data[:,0])]"
   ]
  },
  {
   "cell_type": "code",
   "execution_count": 126,
   "id": "141b53ac",
   "metadata": {},
   "outputs": [],
   "source": [
    "np.argsort(loan_data[:,0])"
   ]
  },
  {
   "cell_type": "code",
   "execution_count": 127,
   "id": "df5ba7f9",
   "metadata": {},
   "outputs": [],
   "source": [
    "# storing the new dataset\n",
    "loan_data = np.vstack((header_full, loan_data))"
   ]
  },
  {
   "cell_type": "code",
   "execution_count": 128,
   "id": "3e72a556",
   "metadata": {},
   "outputs": [],
   "source": [
    "np.savetxt(\"loan-data-preprocessed.csv\", \n",
    "           loan_data, \n",
    "           fmt = '%s',\n",
    "           delimiter = ',')"
   ]
  }
 ],
 "metadata": {
  "kernelspec": {
   "display_name": "Python 3 (ipykernel)",
   "language": "python",
   "name": "python3"
  },
  "language_info": {
   "codemirror_mode": {
    "name": "ipython",
    "version": 3
   },
   "file_extension": ".py",
   "mimetype": "text/x-python",
   "name": "python",
   "nbconvert_exporter": "python",
   "pygments_lexer": "ipython3",
   "version": "3.11.3"
  }
 },
 "nbformat": 4,
 "nbformat_minor": 5
}
